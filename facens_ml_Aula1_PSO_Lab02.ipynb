{
 "cells": [
  {
   "cell_type": "markdown",
   "metadata": {},
   "source": [
    "# Material de aula - FACENS - Aprendizado de Máquina"
   ]
  },
  {
   "cell_type": "markdown",
   "metadata": {},
   "source": [
    "\n",
    "## Particle Swarm Optimization - Laboratório 02"
   ]
  },
  {
   "cell_type": "code",
   "execution_count": 1,
   "metadata": {},
   "outputs": [],
   "source": [
    "#CÉLULA PSO-LIB-01\n",
    "import numpy as np\n",
    "import math\n",
    "import matplotlib.pyplot as plt\n",
    "from enum import Enum\n",
    "from operator import xor\n",
    "%matplotlib inline"
   ]
  },
  {
   "cell_type": "code",
   "execution_count": 2,
   "metadata": {},
   "outputs": [],
   "source": [
    "#CÉLULA PSO-LIB-02\n",
    "# Função para cálculo de fitness (aptidão de cada individuo)\n",
    "def fitness(individual) :  \n",
    "    \n",
    "    #(x, y) = scale(individual)\n",
    "    \n",
    "    x = individual[0]\n",
    "    y = individual[1]\n",
    "    \n",
    "    num = (np.sin(np.sqrt(x**2+y**2)))**2 - 0.5\n",
    "    den = (1 + 0.001*(x**2+y**2)) ** 2\n",
    "    z = 0.5 - (num / den)\n",
    "\n",
    "    return z"
   ]
  },
  {
   "cell_type": "markdown",
   "metadata": {},
   "source": [
    "# 1 - Criando a função para identificação do parâmetro pBest\n",
    "\n",
    "Utilizando Jupyter e NumPy: escreva a função que calcula o melhor parâmetro de uma partícula para o PSO.\n",
    "\n",
    "Assinatura: **def calcPBest(particle)**\n",
    "\n",
    "Esta função recebe como parâmetro uma partícula, que será descrita como um dicionário Python, com os seguintes atributos:\n",
    "- 'X'     : valor da coordenada X\n",
    "- 'Y'     : valor da coordenada Y\n",
    "- 'XBest' : valor da melhor coordenada X da particula\n",
    "- 'YBest' : valor da melhor coordenada Y da particula\n",
    "- 'VX'    : valor da componente X da velocidade da particula\n",
    "- 'VY'    : valor da componente X da velocidade da particula\n",
    "\n",
    "\n",
    "**Operação**: esta função verifica se a posição atual da partícula é melhor que sua 'melhor posição' e atualiza os campos XBest e YBest, se necessário.\n",
    "\n",
    "**Retorno da função**: esta função deverá retornar uma tupla (XBest,YBest)"
   ]
  },
  {
   "cell_type": "markdown",
   "metadata": {},
   "source": [
    "P = XBest, YBest\n",
    "ZMax (número máximo)\n",
    "'Fitness'\n",
    "\n",
    "f1 > fz\n",
    "Custo\n",
    "\n",
    "GBest - looping"
   ]
  },
  {
   "cell_type": "code",
   "execution_count": 42,
   "metadata": {},
   "outputs": [
    {
     "ename": "SyntaxError",
     "evalue": "unexpected EOF while parsing (<ipython-input-42-a26ca9937db1>, line 2)",
     "output_type": "error",
     "traceback": [
      "\u001b[1;36m  File \u001b[1;32m\"<ipython-input-42-a26ca9937db1>\"\u001b[1;36m, line \u001b[1;32m2\u001b[0m\n\u001b[1;33m    def calcPBest(particle) :\u001b[0m\n\u001b[1;37m                                ^\u001b[0m\n\u001b[1;31mSyntaxError\u001b[0m\u001b[1;31m:\u001b[0m unexpected EOF while parsing\n"
     ]
    }
   ],
   "source": [
    "#CÉLULA PSO-LIB-07\n",
    "def calcPBest(particle) :   \n"
   ]
  },
  {
   "cell_type": "code",
   "execution_count": 43,
   "metadata": {},
   "outputs": [],
   "source": [
    "#Teste\n",
    "\n"
   ]
  },
  {
   "cell_type": "markdown",
   "metadata": {},
   "source": [
    "## Validação\n",
    "\n",
    "\n",
    "    particle = {'X': 84.43, 'Y': 93.11, 'XBest': 53.42, 'YBest': 68.11, 'VX': 54.83, 'VY': -67.83}\n",
    "    calcPBest(particle)\n",
    "\n",
    "**Valor esperado: (84.43, 93.11)**\n",
    "\n",
    "    particle = {'X': 0, 'Y': 0, 'XBest': 53.42, 'YBest': 68.11, 'VX': 54.83, 'VY': -67.83}\n",
    "    calcPBest(particle)\n",
    "\n",
    "**Valor esperado: (0, 0)**\n",
    "\n",
    "    particle = {'X': -80, 'Y': 80, 'XBest': -12, 'YBest': 1, 'VX': 54.83, 'VY': -67.83}\n",
    "    calcPBest(particle)\n",
    "    \n",
    "**Valor esperado: (-12, 1)**"
   ]
  },
  {
   "cell_type": "markdown",
   "metadata": {},
   "source": [
    "# 3 - Criando a função para atualização do parâmetro pBest de todas as partículas do bando\n",
    "\n",
    "Utilizando Jupyter e NumPy: escreva a função que calcula o melhor parâmetro do bando para o PSO.\n",
    "\n",
    "Assinatura: **def calcAllPBest(vParticles) :**\n",
    "\n",
    "Esta função recebe como parâmetro uma lista de partículas, cada qual com a mesma estrutura já apresentada no exercício acima.\n",
    "\n",
    "\n",
    "**Operação**: esta função atualiza a informação de pBest de cada partícula do bando.\n",
    "\n",
    "**Retorno da função**: esta função deverá retornar a lista de partículas devidamente atualizadas"
   ]
  },
  {
   "cell_type": "code",
   "execution_count": 44,
   "metadata": {},
   "outputs": [
    {
     "ename": "SyntaxError",
     "evalue": "unexpected EOF while parsing (<ipython-input-44-8f29ed5a829d>, line 2)",
     "output_type": "error",
     "traceback": [
      "\u001b[1;36m  File \u001b[1;32m\"<ipython-input-44-8f29ed5a829d>\"\u001b[1;36m, line \u001b[1;32m2\u001b[0m\n\u001b[1;33m    def calcAllPBest(vParticles) :\u001b[0m\n\u001b[1;37m                                  ^\u001b[0m\n\u001b[1;31mSyntaxError\u001b[0m\u001b[1;31m:\u001b[0m unexpected EOF while parsing\n"
     ]
    }
   ],
   "source": [
    "#CÉLULA PSO-LIB-05\n",
    "def calcAllPBest(vParticles) :\n"
   ]
  },
  {
   "cell_type": "code",
   "execution_count": 45,
   "metadata": {},
   "outputs": [],
   "source": [
    "#Teste\n"
   ]
  },
  {
   "cell_type": "markdown",
   "metadata": {},
   "source": [
    "## Validação\n",
    "\n",
    "    particle1 = {'X': 84.43, 'Y': 93.11, 'XBest': 53.42, 'YBest': 68.11, 'VX': 54.83, 'VY': -67.83}\n",
    "    particle2 = {'X': 0, 'Y': 0, 'XBest': 53.42, 'YBest': 68.11, 'VX': 54.83, 'VY': -67.83}\n",
    "    particle3 = {'X': -80, 'Y': 80, 'XBest': -12, 'YBest': 1, 'VX': 54.83, 'VY': -67.83}\n",
    "\n",
    "**Valor esperado:**\n",
    "\n",
    "**{'YBest': 93.11, 'XBest': 84.43, 'X': 84.43, 'Y': 93.11, 'VX': 54.83, 'VY': -67.83}**\n",
    "\n",
    "**{'YBest': 0, 'XBest': 0, 'X': 0, 'Y': 0, 'VX': 54.83, 'VY': -67.83}**\n",
    "\n",
    "**{'YBest': 1, 'XBest': -12, 'X': -80, 'Y': 80, 'VX': 54.83, 'VY': -67.83}**"
   ]
  },
  {
   "cell_type": "markdown",
   "metadata": {},
   "source": [
    "# 3 - Criando a função para identificação do parâmetro gBest\n",
    "\n",
    "Utilizando Jupyter e NumPy: escreva a função que calcula o melhor parâmetro do bando para o PSO.\n",
    "\n",
    "Assinatura: **def calcGBest(particle)**\n",
    "\n",
    "Esta função recebe como parâmetro uma lista de partículas, cada qual com a mesma estrutura já apresentada no exercício acima.\n",
    "\n",
    "\n",
    "**Operação**: esta função determina qual é a 'melhor posição do bando' e retorna esta informação.\n",
    "\n",
    "**Retorno da função**: esta função deverá retornar um dicionário {'X' : x, 'Y' : y, 'Fitness' : maxFitness}\n",
    "\n",
    "- 'X'       : valor da coordenada X do gBest\n",
    "- 'Y'       :  valor da coordenada Y do gBest\n",
    "- 'Fitness' : valor do custo associado a esta posição"
   ]
  },
  {
   "cell_type": "code",
   "execution_count": 46,
   "metadata": {},
   "outputs": [
    {
     "ename": "SyntaxError",
     "evalue": "unexpected EOF while parsing (<ipython-input-46-9c9223077795>, line 3)",
     "output_type": "error",
     "traceback": [
      "\u001b[1;36m  File \u001b[1;32m\"<ipython-input-46-9c9223077795>\"\u001b[1;36m, line \u001b[1;32m3\u001b[0m\n\u001b[1;33m    def calcGBest(vParticles) :\u001b[0m\n\u001b[1;37m                               ^\u001b[0m\n\u001b[1;31mSyntaxError\u001b[0m\u001b[1;31m:\u001b[0m unexpected EOF while parsing\n"
     ]
    }
   ],
   "source": [
    "#CÉLULA PSO-LIB-06\n",
    "# Verifica o gbest\n",
    "def calcGBest(vParticles) :\n"
   ]
  },
  {
   "cell_type": "code",
   "execution_count": 47,
   "metadata": {},
   "outputs": [],
   "source": [
    "#Teste\n"
   ]
  },
  {
   "cell_type": "markdown",
   "metadata": {},
   "source": [
    "## Validação\n",
    "\n",
    "    particle1 = {'X': 84.43, 'Y': 93.11, 'XBest': 53.42, 'YBest': 68.11, 'VX': 54.83, 'VY': -67.83}\n",
    "    particle2 = {'X': 0, 'Y': 0, 'XBest': 53.42, 'YBest': 68.11, 'VX': 54.83, 'VY': -67.83}\n",
    "    particle3 = {'X': -80, 'Y': 80, 'XBest': -12, 'YBest': 1, 'VX': 54.83, 'VY': -67.83}\n",
    "\n",
    "**Valor esperado: {'Fitness': 1.0, 'X': 0, 'Y': 0}**"
   ]
  },
  {
   "cell_type": "code",
   "execution_count": null,
   "metadata": {},
   "outputs": [],
   "source": []
  }
 ],
 "metadata": {
  "kernelspec": {
   "display_name": "Python 3",
   "language": "python",
   "name": "python3"
  },
  "language_info": {
   "codemirror_mode": {
    "name": "ipython",
    "version": 3
   },
   "file_extension": ".py",
   "mimetype": "text/x-python",
   "name": "python",
   "nbconvert_exporter": "python",
   "pygments_lexer": "ipython3",
   "version": "3.6.5"
  }
 },
 "nbformat": 4,
 "nbformat_minor": 2
}
