{
 "cells": [
  {
   "cell_type": "markdown",
   "metadata": {},
   "source": [
    "# Material de aula - FACENS - Aprendizado de Máquina"
   ]
  },
  {
   "cell_type": "markdown",
   "metadata": {},
   "source": [
    "\n",
    "## Particle Swarm Optimization - Laboratório 03"
   ]
  },
  {
   "cell_type": "code",
   "execution_count": 2,
   "metadata": {},
   "outputs": [],
   "source": [
    "#CÉLULA PSO-LIB-01\n",
    "import numpy as np\n",
    "import math\n",
    "import matplotlib.pyplot as plt\n",
    "from enum import Enum\n",
    "from operator import xor\n",
    "%matplotlib inline"
   ]
  },
  {
   "cell_type": "markdown",
   "metadata": {},
   "source": [
    "# 1 - Criando a função para plotar o gráfico do bando\n",
    "\n",
    "Utilizando Jupyter e NumPy: escreva a função que plota o gráfico do bando no plano da função de fitness.\n",
    "\n",
    "Assinatura: **def plot_population(P, generation) :**\n",
    "\n",
    "Esta função recebe como parâmetro um bando de particulas e a iteração em que ela se encontra e a seguir plota um gráfico de suas posições relativas ao plano (X, Y).\n",
    "\n",
    "Domínio da função: \n",
    "\n",
    "\n",
    "\n",
    "- xmin = -100\n",
    "- xmax =  100\n",
    "- ymin = -100\n",
    "- xmax =  100\n",
    "\n",
    "Utilize o comando plot da biblioteca matplotlib.\n",
    "\n",
    "**Retorno da função**: Não tem."
   ]
  },
  {
   "cell_type": "code",
   "execution_count": 6,
   "metadata": {},
   "outputs": [],
   "source": [
    "#CÉLULA PSO-LIB-03\n",
    "def plot_population(P, generation):\n",
    "    \n",
    "    xmin =-100\n",
    "    xmax = 100\n",
    "    ymin =-100\n",
    "    ymax = 100\n",
    "    \n",
    "    xAxis = []\n",
    "    yAxis = []\n",
    "    for individual in P : \n",
    "        x = individual['X']\n",
    "        y = individual['Y']\n",
    "        \n",
    "        xAxis.append(x)\n",
    "        yAxis.append(y)\n",
    "    \n",
    "    plt.figure()\n",
    "    plt.plot(xAxis, yAxis, 'bo')\n",
    "    plt.axis([xmin, xmax, ymin, ymax])\n",
    "    \n",
    "    plt.xlabel('x')\n",
    "    plt.ylabel('y')\n",
    "    sTitle = ('Populacao na geração {}'.format(generation))\n",
    "    plt.title(sTitle)\n",
    "    plt.grid()"
   ]
  },
  {
   "cell_type": "code",
   "execution_count": 7,
   "metadata": {},
   "outputs": [
    {
     "data": {
      "image/png": "[encoded data removed]",
      "text/plain": [
       "<Figure size 432x288 with 1 Axes>"
      ]
     },
     "metadata": {},
     "output_type": "display_data"
    }
   ],
   "source": [
    "#Teste\n",
    "vParticles = []\n",
    "particle1 = {'X': 84.43, 'Y': 93.11, 'XBest': 53.42, 'YBest': 68.11, 'VX': 54.83, 'VY': -67.83}\n",
    "particle2 = {'X': 0, 'Y': 0, 'XBest': 53.42, 'YBest': 68.11, 'VX': 54.83, 'VY': -67.83}\n",
    "particle3 = {'X': -80, 'Y': 80, 'XBest': -12, 'YBest': 1, 'VX': 54.83, 'VY': -67.83}\n",
    "vParticles.append(particle1)\n",
    "vParticles.append(particle2)\n",
    "vParticles.append(particle3)\n",
    "\n",
    "plot_population(vParticles, 1)\n"
   ]
  },
  {
   "attachments": {
    "image.png": {
     "image/png": "[encoded data removed]"
    }
   },
   "cell_type": "markdown",
   "metadata": {},
   "source": [
    "## Validação\n",
    "\n",
    "    particle1 = {'X': 84.43, 'Y': 93.11, 'XBest': 53.42, 'YBest': 68.11, 'VX': 54.83, 'VY': -67.83}\n",
    "    particle2 = {'X': 0, 'Y': 0, 'XBest': 53.42, 'YBest': 68.11, 'VX': 54.83, 'VY': -67.83}\n",
    "    particle3 = {'X': -80, 'Y': 80, 'XBest': -12, 'YBest': 1, 'VX': 54.83, 'VY': -67.83}\n",
    "\n",
    "**Valor esperado:**\n",
    "\n",
    "![image.png](attachment:image.png)"
   ]
  },
  {
   "cell_type": "code",
   "execution_count": null,
   "metadata": {},
   "outputs": [],
   "source": []
  }
 ],
 "metadata": {
  "kernelspec": {
   "display_name": "Python 3",
   "language": "python",
   "name": "python3"
  },
  "language_info": {
   "codemirror_mode": {
    "name": "ipython",
    "version": 3
   },
   "file_extension": ".py",
   "mimetype": "text/x-python",
   "name": "python",
   "nbconvert_exporter": "python",
   "pygments_lexer": "ipython3",
   "version": "3.6.5"
  }
 },
 "nbformat": 4,
 "nbformat_minor": 2
}
