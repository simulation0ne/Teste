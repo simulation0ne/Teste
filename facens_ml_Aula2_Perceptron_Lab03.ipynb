{
 "cells": [
  {
   "cell_type": "markdown",
   "metadata": {},
   "source": [
    "# Material de aula - FACENS - Aprendizado de Máquina"
   ]
  },
  {
   "cell_type": "markdown",
   "metadata": {},
   "source": [
    "\n",
    "## Perceptron e Regra de Aprendizado de Hebb - Laboratório 03"
   ]
  },
  {
   "cell_type": "code",
   "execution_count": null,
   "metadata": {},
   "outputs": [],
   "source": [
    "#CÉLULA PERCEPTRON-LIB-01\n",
    "import numpy as np\n",
    "import math\n",
    "import matplotlib.pyplot as plt\n",
    "import pandas as pd\n",
    "%matplotlib inline"
   ]
  },
  {
   "cell_type": "code",
   "execution_count": null,
   "metadata": {},
   "outputs": [],
   "source": [
    "#CÉLULA PERCEPTRON-LIB-02\n",
    "def loadDataFile(filename) :\n",
    "    '''\n",
    "    Esta função faz o carregamento de dados de um arquivo separado por virgulas (csv)\n",
    "    \n",
    "    Parametros\n",
    "    -----------\n",
    "    filename -> nome do arquivo de dados em formato csv\n",
    "    \n",
    "    \n",
    "    Retorno\n",
    "    -----------  \n",
    "    dataframe contendo os dados do arquivo formatados numericamente.\n",
    "    '''\n",
    "    \n",
    "    dfFile = pd.read_csv(filename, sep=';', decimal=',', thousands='.')\n",
    "\n",
    "    \n",
    "    return dfFile"
   ]
  },
  {
   "cell_type": "code",
   "execution_count": null,
   "metadata": {},
   "outputs": [],
   "source": [
    "dfTrainingFile"
   ]
  },
  {
   "cell_type": "code",
   "execution_count": null,
   "metadata": {},
   "outputs": [],
   "source": [
    "dfOperationFile"
   ]
  },
  {
   "cell_type": "code",
   "execution_count": null,
   "metadata": {},
   "outputs": [],
   "source": [
    "#CÉLULA PERCEPTRON-LIB-03\n",
    "# Função para cálculo de normalização de uma amostra\n",
    "def tales(x1, x1_min, x1_max, x2_min, x2_max) :\n",
    "    '''\n",
    "    Esta função faz o escalamento de 1 amostra x1, que pertence ao intervalo [x1_min, x1_max], \n",
    "    dentro do intervalo [x2_min, x2_max]\n",
    "    \n",
    "    Parametros\n",
    "    -----------\n",
    "    x1     -> valor a ser normalizado\n",
    "    x1_min -> valor minimo atingido por x1\n",
    "    x1_max -> valor maximo atingido por x1\n",
    "    x2_min -> valor minimo da escala de destino\n",
    "    x2_max -> valor maximo da escala de destino    \n",
    "    \n",
    "    Retorno\n",
    "    -----------  \n",
    "    valor de x1, que pertence ao intervalo [x1_min, x1_max], projetado dentro do intervalo [x2_min, x2_max]\n",
    "    '''\n",
    "   \n",
    "    #Teorema de Tales\n",
    "    # ( x2 - x2_min ) / ( x2_max - x2_min ) = ( x1 - x1_min ) / (x1_max - % x1_min);\n",
    "    \n",
    "    #Definindo x1 como a escala do vetor dado e x2 como a escala de saída (variavel de interesse), isola-se x2:\n",
    "    x2 = ( ( x1 - x1_min ) / (x1_max - x1_min) )* ( x2_max - x2_min ) + x2_min\n",
    "    \n",
    "    return x2"
   ]
  },
  {
   "cell_type": "code",
   "execution_count": null,
   "metadata": {},
   "outputs": [],
   "source": [
    "#CÉLULA PERCEPTRON-LIB-04\n",
    "def scale(x2_min, x2_max, sampleArray) :\n",
    "    '''\n",
    "    Esta função faz o escalamento de 1 vetor de amostras para dentro do intervalo [x2_min, x2_max]\n",
    "    Ela retorna um vetor com os dados normalizados dentro do dominio dado\n",
    "    \n",
    "    Parametros\n",
    "    -----------\n",
    "    x2_min      -> valor minimo da escala de destino\n",
    "    x2_max      -> valor maximo da escala de destino\n",
    "    sampleArray -> vetor a ser normalizado   \n",
    "    \n",
    "    Retorno\n",
    "    -----------  \n",
    "    vetor sampleArray projetado dentro do intervalo [x2_min, x2_max]   \n",
    "    '''    \n",
    "    x_max = max(sampleArray)\n",
    "    x_min = min(sampleArray)\n",
    "    \n",
    "    sampleArrayNorm = [tales(x, x_min, x_max, x2_min, x2_max) for x in sampleArray]\n",
    "    \n",
    "    return sampleArrayNorm"
   ]
  },
  {
   "cell_type": "code",
   "execution_count": null,
   "metadata": {},
   "outputs": [],
   "source": [
    "#Normalizando array de treino\n",
    "\n",
    "dfTrainingFile = loadDataFile('Lab01_training.csv')\n",
    "dfTrainingFile\n",
    "dfTrainingFileNorm = dfTrainingFile\n",
    "dfTrainingFileNorm['x1'] = scale(-1,1, dfTrainingFile['x1'])\n",
    "dfTrainingFileNorm['x2'] = scale(-1,1, dfTrainingFile['x2'])\n",
    "dfTrainingFileNorm['x3'] = scale(-1,1, dfTrainingFile['x3'])\n",
    "\n",
    "dfTrainingFile"
   ]
  },
  {
   "cell_type": "code",
   "execution_count": null,
   "metadata": {},
   "outputs": [],
   "source": [
    "#Normalizando array de teste\n",
    "\n",
    "dfTestFile = loadDataFile('Lab01_operation.csv')\n",
    "dfTestFile\n",
    "dfTestFileNorm = dfTestFile\n",
    "dfTestFileNorm['x1'] = scale(-1,1, dfTestFileNorm['x1'])\n",
    "dfTestFileNorm['x2'] = scale(-1,1, dfTestFileNorm['x2'])\n",
    "dfTestFileNorm['x3'] = scale(-1,1, dfTestFileNorm['x3'])\n",
    "\n",
    "dfTestFileNorm"
   ]
  },
  {
   "cell_type": "markdown",
   "metadata": {},
   "source": [
    "# 1 - Implementação do algoritmo de treinamento e ajuste de pesos do perceptron\n",
    "\n",
    "Utilizando Jupyter e NumPy: para o problema apresentado, construa uma função para o cálculo do ajuste de pesos do perceptron.\n",
    "\n",
    "Assinatura: **def perceptron_train(eta, vInputs, vOutputs, max_epochs) :**\n",
    "\n",
    "### esta função faz o ajuste dos pesos do perceptron, com a taxa de aprendizado dada, juntamente com o vetor de amostras e de saídas desejadas dentro do limite de treinamento pre-estabelecido.\n",
    "    \n",
    "**Retorno da Função:** Retorna uma tupla contendo os pesos ajustados e a quantidade de épocas executadas para o treinamento\n"
   ]
  },
  {
   "cell_type": "code",
   "execution_count": null,
   "metadata": {},
   "outputs": [],
   "source": [
    "#CÉLULA PERCEPTRON-LIB-05\n",
    "def perceptron_train(eta, vInputs, vOutputs, max_epochs) :    \n",
    "    '''\n",
    "    Algoritmo de treinamento do Perceptron Simples\n",
    "    \n",
    "    Parametros\n",
    "    -----------\n",
    "    eta        -> taxa de aprendizado\n",
    "    inputs     -> vetor/matriz com as entradas\n",
    "    outputs    -> vetor/matriz com as saidas\n",
    "    max_epochs -> criterio de parada por epocas de treinamento\n",
    "    \n",
    "    Retorno\n",
    "    -------\n",
    "    Este método retorna uma tupla contendo o vetor de pesos ajustado e o numero de epocas executadas no treinamento.\n",
    "    '''\n",
    "    \n",
    "    #IMPLEMENTE O CÓDIGO AQUI\n",
    "    \n",
    "    #Determine numero de entradas do perceptron e o numero de amostras    \n",
    "    \n",
    "    nInputs  = vInputs.shape[0]\n",
    "    nSamples = vInputs.shape[1]\n",
    "        \n",
    "    #Inicialize o vetor de pesos com valores aleatórios\n",
    "    \n",
    "    vWeights = np.random.rand(nInputs, 1)\n",
    "    \n",
    "    #Monte o loop de cálculo do erro e ajuste dos pesos\n",
    "    bError = True\n",
    "    \n",
    "    for epochCounter in range(max_epochs) : \n",
    "        \n",
    "        if (bError == False) :\n",
    "            break\n",
    "        \n",
    "        bError = False\n",
    "        for k in range(nSamples) :\n",
    "            u = \n",
    "            y = \n",
    "            \n",
    "            if(y != vOutputs[k]) :\n",
    "                bError = True\n",
    "                vWeights += \n",
    "            \n",
    "    return (vWeights, epochCounter-1)"
   ]
  },
  {
   "cell_type": "markdown",
   "metadata": {},
   "source": [
    "# 2 - Implementação do algoritmo de operação do perceptron\n",
    "\n",
    "Utilizando Jupyter e NumPy: para o problema apresentado, construa uma função para o cálculo de saída do perceptron.\n",
    "\n",
    "Assinatura: **def perceptron_operation(vWeights, vInputs) :**\n",
    "\n",
    "### esta função faz o cálculo do valor de saída do utilizando valores de pesos para um perceptron pré-ajustado.\n",
    "    \n",
    "**Retorno da Função:** Retorna um escalar com o valor de saída, no caso -1 ou 1"
   ]
  },
  {
   "cell_type": "code",
   "execution_count": null,
   "metadata": {},
   "outputs": [],
   "source": [
    "#CÉLULA PERCEPTRON-LIB-06\n",
    "def perceptron_operation(vWeights, vInputs) :\n",
    "    '''Algoritmo de operação do Perceptron Simples\n",
    "    \n",
    "    Parametros\n",
    "    -----------\n",
    "    vWeights : vetor/matriz com os pesos\n",
    "    inputs   : vetor/matriz com as entradas\n",
    "    \n",
    "    Retorno\n",
    "    -------\n",
    "    Este método retorna o valor de saída do perceptron calculado segundo sua função de ativação signal(.)    \n",
    "    ''' \n",
    "\n",
    "    #IMPLEMENTE O CÓDIGO AQUI\n",
    "    u = \n",
    "    y = \n",
    "    \n",
    "    return np.asscalar(y) #converte o numpy array 1x1 em um unico valor escalar."
   ]
  },
  {
   "cell_type": "markdown",
   "metadata": {},
   "source": [
    "# 3 - Implementação do algoritmo de execução do treinamento e operação do perceptron"
   ]
  },
  {
   "attachments": {
    "image.png": {
     "image/png": "[encoded data removed]"
    }
   },
   "cell_type": "markdown",
   "metadata": {},
   "source": [
    "### A partir da análise de um processo de destilação fracionada de petróleo observou-se que determinado óleo poderia ser classificado em duas classes de pureza {C1 e C2}, mediante a medição de três grandezas {x1, x2 e x3} que representam algumas das propriedades físico-químicas do óleo. \n",
    "\n",
    "### A equipe de engenheiros e cientistas pretende utilizar um perceptron para executar a classificação automática destas duas classes.\n",
    "\n",
    "### Assim, baseadas nas informações coletadas do processo, formou-se o conjunto de treinamento em anexo, tomando por convenção o valor –1 para óleo pertencente à classe C1 e o valor +1 para óleo pertencente à classe C2. \n",
    "\n",
    "### Portanto, o neurônio constituinte do perceptron terá três entradas e uma saída, conforme a figura abaixo:\n",
    "\n",
    "![image.png](attachment:image.png)"
   ]
  },
  {
   "cell_type": "markdown",
   "metadata": {},
   "source": [
    "### Utilizando o algoritmo supervisionado de Hebb (regra de Hebb) para classificação de padrões, e assumindo-se a taxa de aprendizagem igual a 0.01, faça as seguintes atividades:\n",
    "\n",
    "## 3.1 - Implemente o código que realiza o treinamento do perceptron para o problema dado."
   ]
  },
  {
   "cell_type": "markdown",
   "metadata": {},
   "source": [
    "## PERCEPTRON - inicio"
   ]
  },
  {
   "cell_type": "code",
   "execution_count": null,
   "metadata": {},
   "outputs": [],
   "source": [
    "#CÉLULA PERCEPTRON-MAIN-01\n",
    "\n",
    "#IMPLEMENTE O CÓDIGO AQUI\n",
    "\n",
    "#Parâmetros\n",
    "eta = \n",
    "nInputs = \n",
    "max_epochs = 1000 \n",
    "\n",
    "#Carrega dados - Treino\n",
    "dfTrainingFile = loadDataFile('Lab01_training.csv')\n",
    "dfTrainingFileNorm = dfTrainingFile.copy()\n",
    "\n",
    "#Aplique a normalização dos dados\n",
    "dfTrainingFileNorm['x1'] = \n",
    "dfTrainingFileNorm['x2'] = \n",
    "dfTrainingFileNorm['x3'] = \n",
    "\n",
    "nSamples = len (dfTrainingFileNorm['x1'])\n",
    "\n",
    "#Adicione a coluna de Bias\n",
    "col0 = \n",
    "col1 = dfTrainingFileNorm['x1'].values.reshape(nSamples, 1)\n",
    "col2 = dfTrainingFileNorm['x2'].values.reshape(nSamples, 1)\n",
    "col3 = dfTrainingFileNorm['x3'].values.reshape(nSamples, 1)\n",
    "\n",
    "vInputs = np.array(col0)\n",
    "vInputs = np.append(vInputs, col1, axis=1) #axis = 1 -> coluna\n",
    "vInputs = np.append(vInputs, col2, axis=1) #axis = 1 -> coluna\n",
    "vInputs = np.append(vInputs, col3, axis=1) #axis = 1 -> coluna\n",
    "\n",
    "#Vetor de saídas do treinamento\n",
    "vOutputs = dfTrainingFileNorm['d'].values.reshape(nSamples, 1)\n",
    "\n",
    "#Executa o treinamento\n",
    "\n",
    "(vWeights, nEpochs) = \n",
    "\n",
    "\n",
    "#Verifica o resultado do treinamento (use as variáveis abaixo)\n",
    "print(nEpochs)\n",
    "print(vWeights)"
   ]
  },
  {
   "cell_type": "markdown",
   "metadata": {},
   "source": [
    "## 3.2 - Implemente o código que valida o resultado do treinamento"
   ]
  },
  {
   "cell_type": "code",
   "execution_count": null,
   "metadata": {},
   "outputs": [],
   "source": [
    "#Verifica resultados \n",
    "\n",
    "#IMPLEMENTE O CÓDIGO AQUI\n",
    "vY = []\n",
    "for k in range(nSamples):\n",
    "    y =   \n",
    "    vY.append(y)\n",
    "\n",
    "dfValidation = dfTrainingFile.copy()\n",
    "dfValidation['y'] = vY\n",
    "\n",
    "results = (dfValidation['y'] == dfValidation['d'])\n",
    "accuracy = sum(results) / len(results) * 100\n",
    "\n",
    "print('Taxa de acerto do conjunto de treinamento: {}%'.format(accuracy))"
   ]
  },
  {
   "cell_type": "markdown",
   "metadata": {},
   "source": [
    "## 3.3 - Implemente o código que executa o perceptron treinado com dados de operação"
   ]
  },
  {
   "cell_type": "code",
   "execution_count": null,
   "metadata": {},
   "outputs": [],
   "source": [
    "#Carrega dados - Teste\n",
    "dfTestFile = loadDataFile('Lab01_operation.csv')\n",
    "dfTestFileNorm = dfTestFile.copy()\n",
    "\n",
    "#Aplique a escala\n",
    "dfTestFileNorm['x1'] = \n",
    "dfTestFileNorm['x2'] = \n",
    "dfTestFileNorm['x3'] = \n",
    "\n",
    "nSamples = len (dfTestFileNorm['x1'])\n",
    "\n",
    "#Adicione a coluna de Bias\n",
    "col0 = \n",
    "col1 = dfTestFileNorm['x1'].values.reshape(nSamples, 1)\n",
    "col2 = dfTestFileNorm['x2'].values.reshape(nSamples, 1)\n",
    "col3 = dfTestFileNorm['x3'].values.reshape(nSamples, 1)\n",
    "\n",
    "vTestInputs = np.array(col0)\n",
    "vTestInputs = np.append(vTestInputs, col1, axis=1) #axis = 1 -> coluna\n",
    "vTestInputs = np.append(vTestInputs, col2, axis=1) #axis = 1 -> coluna\n",
    "vTestInputs = np.append(vTestInputs, col3, axis=1) #axis = 1 -> coluna\n",
    "\n",
    "vY=[]\n",
    "for k in range(nSamples):\n",
    "    y = \n",
    "    vY.append(y)\n",
    "\n",
    "print(y)"
   ]
  }
 ],
 "metadata": {
  "kernelspec": {
   "display_name": "Python 3",
   "language": "python",
   "name": "python3"
  },
  "language_info": {
   "codemirror_mode": {
    "name": "ipython",
    "version": 3
   },
   "file_extension": ".py",
   "mimetype": "text/x-python",
   "name": "python",
   "nbconvert_exporter": "python",
   "pygments_lexer": "ipython3",
   "version": "3.5.2"
  }
 },
 "nbformat": 4,
 "nbformat_minor": 2
}
